{
 "cells": [
  {
   "cell_type": "markdown",
   "id": "antique-outdoors",
   "metadata": {},
   "source": [
    "# Part 3: Credit card fraud"
   ]
  },
  {
   "cell_type": "markdown",
   "id": "brave-learning",
   "metadata": {},
   "source": [
    "### Description about dataset::\n",
    "The datasets contains transactions made by credit cards in September 2013 by european cardholders. This dataset presents transactions that occurred in two days, where we have 492 frauds out of 284,807 transactions. The dataset is highly unbalanced, the positive class (frauds) account for 0.172% of all transactions.\n",
    "\n",
    "It contains only numerical input variables which are the result of a PCA transformation. Unfortunately, due to confidentiality issues, we cannot provide the original features and more background information about the data. Features V1, V2, … V28 are the principal components obtained with PCA, the only features which have not been transformed with PCA are 'Time' and 'Amount'. Feature 'Time' contains the seconds elapsed between each transaction and the first transaction in the dataset. The feature 'Amount' is the transaction Amount, this feature can be used for example-dependant cost-senstive learning.\n",
    "\n",
    "Feature 'Class' is the response variable and it takes value 1 in case of fraud and 0 otherwise.\n",
    "### WORKFLOW :\n",
    "1.Load Data\n",
    "\n",
    "2.Check Missing Values ( If Exist ; Fill each record with mean of its feature )\n",
    "\n",
    "3.Standardized the Input Variables.\n",
    "\n",
    "4.Split into 50% Training(Samples,Labels) , 30% Test(Samples,Labels) and 20% Validation Data(Samples,Labels).\n",
    "\n",
    "5.Model : input Layer (No. of features ), 3 hidden layers including 10,8,6 unit & Output Layer with activation function relu/tanh (check by experiment).\n",
    "\n",
    "6.Compilation Step (Note : Its a Binary problem , select loss , metrics according to it)\n",
    "\n",
    "7.Train the Model with Epochs (100).\n",
    "\n",
    "8.If the model gets overfit tune your model by changing the units , No. of layers , epochs , add dropout layer or add Regularizer according to the need .\n",
    "\n",
    "9.Prediction should be > 92% 10.Evaluation Step 11Prediction\n",
    "\n",
    "### Task::\n",
    "Identify fraudulent credit card transactions."
   ]
  },
  {
   "cell_type": "code",
   "execution_count": 2,
   "id": "mighty-locking",
   "metadata": {},
   "outputs": [],
   "source": [
    "import numpy as np \n",
    "import pandas as pd \n",
    "import matplotlib.pyplot as plt\n",
    "import seaborn as sns\n",
    "sns.set()\n",
    "from tensorflow import keras\n",
    "from tensorflow.keras.layers import Dense"
   ]
  },
  {
   "cell_type": "code",
   "execution_count": 3,
   "id": "increased-liberal",
   "metadata": {},
   "outputs": [
    {
     "data": {
      "text/html": [
       "<div>\n",
       "<style scoped>\n",
       "    .dataframe tbody tr th:only-of-type {\n",
       "        vertical-align: middle;\n",
       "    }\n",
       "\n",
       "    .dataframe tbody tr th {\n",
       "        vertical-align: top;\n",
       "    }\n",
       "\n",
       "    .dataframe thead th {\n",
       "        text-align: right;\n",
       "    }\n",
       "</style>\n",
       "<table border=\"1\" class=\"dataframe\">\n",
       "  <thead>\n",
       "    <tr style=\"text-align: right;\">\n",
       "      <th></th>\n",
       "      <th>Time</th>\n",
       "      <th>V1</th>\n",
       "      <th>V2</th>\n",
       "      <th>V3</th>\n",
       "      <th>V4</th>\n",
       "      <th>V5</th>\n",
       "      <th>V6</th>\n",
       "      <th>V7</th>\n",
       "      <th>V8</th>\n",
       "      <th>V9</th>\n",
       "      <th>...</th>\n",
       "      <th>V21</th>\n",
       "      <th>V22</th>\n",
       "      <th>V23</th>\n",
       "      <th>V24</th>\n",
       "      <th>V25</th>\n",
       "      <th>V26</th>\n",
       "      <th>V27</th>\n",
       "      <th>V28</th>\n",
       "      <th>Amount</th>\n",
       "      <th>Class</th>\n",
       "    </tr>\n",
       "  </thead>\n",
       "  <tbody>\n",
       "    <tr>\n",
       "      <th>0</th>\n",
       "      <td>0.0</td>\n",
       "      <td>-1.359807</td>\n",
       "      <td>-0.072781</td>\n",
       "      <td>2.536347</td>\n",
       "      <td>1.378155</td>\n",
       "      <td>-0.338321</td>\n",
       "      <td>0.462388</td>\n",
       "      <td>0.239599</td>\n",
       "      <td>0.098698</td>\n",
       "      <td>0.363787</td>\n",
       "      <td>...</td>\n",
       "      <td>-0.018307</td>\n",
       "      <td>0.277838</td>\n",
       "      <td>-0.110474</td>\n",
       "      <td>0.066928</td>\n",
       "      <td>0.128539</td>\n",
       "      <td>-0.189115</td>\n",
       "      <td>0.133558</td>\n",
       "      <td>-0.021053</td>\n",
       "      <td>149.62</td>\n",
       "      <td>0</td>\n",
       "    </tr>\n",
       "    <tr>\n",
       "      <th>1</th>\n",
       "      <td>0.0</td>\n",
       "      <td>1.191857</td>\n",
       "      <td>0.266151</td>\n",
       "      <td>0.166480</td>\n",
       "      <td>0.448154</td>\n",
       "      <td>0.060018</td>\n",
       "      <td>-0.082361</td>\n",
       "      <td>-0.078803</td>\n",
       "      <td>0.085102</td>\n",
       "      <td>-0.255425</td>\n",
       "      <td>...</td>\n",
       "      <td>-0.225775</td>\n",
       "      <td>-0.638672</td>\n",
       "      <td>0.101288</td>\n",
       "      <td>-0.339846</td>\n",
       "      <td>0.167170</td>\n",
       "      <td>0.125895</td>\n",
       "      <td>-0.008983</td>\n",
       "      <td>0.014724</td>\n",
       "      <td>2.69</td>\n",
       "      <td>0</td>\n",
       "    </tr>\n",
       "    <tr>\n",
       "      <th>2</th>\n",
       "      <td>1.0</td>\n",
       "      <td>-1.358354</td>\n",
       "      <td>-1.340163</td>\n",
       "      <td>1.773209</td>\n",
       "      <td>0.379780</td>\n",
       "      <td>-0.503198</td>\n",
       "      <td>1.800499</td>\n",
       "      <td>0.791461</td>\n",
       "      <td>0.247676</td>\n",
       "      <td>-1.514654</td>\n",
       "      <td>...</td>\n",
       "      <td>0.247998</td>\n",
       "      <td>0.771679</td>\n",
       "      <td>0.909412</td>\n",
       "      <td>-0.689281</td>\n",
       "      <td>-0.327642</td>\n",
       "      <td>-0.139097</td>\n",
       "      <td>-0.055353</td>\n",
       "      <td>-0.059752</td>\n",
       "      <td>378.66</td>\n",
       "      <td>0</td>\n",
       "    </tr>\n",
       "    <tr>\n",
       "      <th>3</th>\n",
       "      <td>1.0</td>\n",
       "      <td>-0.966272</td>\n",
       "      <td>-0.185226</td>\n",
       "      <td>1.792993</td>\n",
       "      <td>-0.863291</td>\n",
       "      <td>-0.010309</td>\n",
       "      <td>1.247203</td>\n",
       "      <td>0.237609</td>\n",
       "      <td>0.377436</td>\n",
       "      <td>-1.387024</td>\n",
       "      <td>...</td>\n",
       "      <td>-0.108300</td>\n",
       "      <td>0.005274</td>\n",
       "      <td>-0.190321</td>\n",
       "      <td>-1.175575</td>\n",
       "      <td>0.647376</td>\n",
       "      <td>-0.221929</td>\n",
       "      <td>0.062723</td>\n",
       "      <td>0.061458</td>\n",
       "      <td>123.50</td>\n",
       "      <td>0</td>\n",
       "    </tr>\n",
       "    <tr>\n",
       "      <th>4</th>\n",
       "      <td>2.0</td>\n",
       "      <td>-1.158233</td>\n",
       "      <td>0.877737</td>\n",
       "      <td>1.548718</td>\n",
       "      <td>0.403034</td>\n",
       "      <td>-0.407193</td>\n",
       "      <td>0.095921</td>\n",
       "      <td>0.592941</td>\n",
       "      <td>-0.270533</td>\n",
       "      <td>0.817739</td>\n",
       "      <td>...</td>\n",
       "      <td>-0.009431</td>\n",
       "      <td>0.798278</td>\n",
       "      <td>-0.137458</td>\n",
       "      <td>0.141267</td>\n",
       "      <td>-0.206010</td>\n",
       "      <td>0.502292</td>\n",
       "      <td>0.219422</td>\n",
       "      <td>0.215153</td>\n",
       "      <td>69.99</td>\n",
       "      <td>0</td>\n",
       "    </tr>\n",
       "  </tbody>\n",
       "</table>\n",
       "<p>5 rows × 31 columns</p>\n",
       "</div>"
      ],
      "text/plain": [
       "   Time        V1        V2        V3        V4        V5        V6        V7  \\\n",
       "0   0.0 -1.359807 -0.072781  2.536347  1.378155 -0.338321  0.462388  0.239599   \n",
       "1   0.0  1.191857  0.266151  0.166480  0.448154  0.060018 -0.082361 -0.078803   \n",
       "2   1.0 -1.358354 -1.340163  1.773209  0.379780 -0.503198  1.800499  0.791461   \n",
       "3   1.0 -0.966272 -0.185226  1.792993 -0.863291 -0.010309  1.247203  0.237609   \n",
       "4   2.0 -1.158233  0.877737  1.548718  0.403034 -0.407193  0.095921  0.592941   \n",
       "\n",
       "         V8        V9  ...       V21       V22       V23       V24       V25  \\\n",
       "0  0.098698  0.363787  ... -0.018307  0.277838 -0.110474  0.066928  0.128539   \n",
       "1  0.085102 -0.255425  ... -0.225775 -0.638672  0.101288 -0.339846  0.167170   \n",
       "2  0.247676 -1.514654  ...  0.247998  0.771679  0.909412 -0.689281 -0.327642   \n",
       "3  0.377436 -1.387024  ... -0.108300  0.005274 -0.190321 -1.175575  0.647376   \n",
       "4 -0.270533  0.817739  ... -0.009431  0.798278 -0.137458  0.141267 -0.206010   \n",
       "\n",
       "        V26       V27       V28  Amount  Class  \n",
       "0 -0.189115  0.133558 -0.021053  149.62      0  \n",
       "1  0.125895 -0.008983  0.014724    2.69      0  \n",
       "2 -0.139097 -0.055353 -0.059752  378.66      0  \n",
       "3 -0.221929  0.062723  0.061458  123.50      0  \n",
       "4  0.502292  0.219422  0.215153   69.99      0  \n",
       "\n",
       "[5 rows x 31 columns]"
      ]
     },
     "execution_count": 3,
     "metadata": {},
     "output_type": "execute_result"
    }
   ],
   "source": [
    "#Load Data\n",
    "c_data=pd.read_csv('creditcard.csv')\n",
    "c_data.head()"
   ]
  },
  {
   "cell_type": "code",
   "execution_count": 4,
   "id": "hispanic-cemetery",
   "metadata": {},
   "outputs": [],
   "source": [
    "zeros=c_data[c_data['Class']==0]"
   ]
  },
  {
   "cell_type": "code",
   "execution_count": 5,
   "id": "democratic-increase",
   "metadata": {},
   "outputs": [],
   "source": [
    "zeros=zeros.iloc[:500,:]"
   ]
  },
  {
   "cell_type": "code",
   "execution_count": 6,
   "id": "varied-cathedral",
   "metadata": {},
   "outputs": [
    {
     "data": {
      "text/plain": [
       "(500, 31)"
      ]
     },
     "execution_count": 6,
     "metadata": {},
     "output_type": "execute_result"
    }
   ],
   "source": [
    "zeros.shape"
   ]
  },
  {
   "cell_type": "code",
   "execution_count": 7,
   "id": "visible-fourth",
   "metadata": {},
   "outputs": [],
   "source": [
    "ones=c_data[c_data['Class']==1]"
   ]
  },
  {
   "cell_type": "code",
   "execution_count": 8,
   "id": "described-journalism",
   "metadata": {},
   "outputs": [],
   "source": [
    "df=pd.concat([ones,zeros])"
   ]
  },
  {
   "cell_type": "code",
   "execution_count": 9,
   "id": "coral-trial",
   "metadata": {},
   "outputs": [],
   "source": [
    "from sklearn.utils import shuffle\n",
    "df = shuffle(df)"
   ]
  },
  {
   "cell_type": "code",
   "execution_count": 10,
   "id": "prompt-fundamental",
   "metadata": {},
   "outputs": [],
   "source": [
    "X=df.drop('Class',axis=1)\n",
    "y=df['Class']"
   ]
  },
  {
   "cell_type": "code",
   "execution_count": 11,
   "id": "played-philip",
   "metadata": {},
   "outputs": [
    {
     "data": {
      "text/plain": [
       "0    500\n",
       "1    492\n",
       "Name: Class, dtype: int64"
      ]
     },
     "execution_count": 11,
     "metadata": {},
     "output_type": "execute_result"
    }
   ],
   "source": [
    "y.value_counts()"
   ]
  },
  {
   "cell_type": "code",
   "execution_count": 12,
   "id": "sorted-navigation",
   "metadata": {},
   "outputs": [],
   "source": [
    "from sklearn.model_selection import train_test_split\n",
    "X_train, X_test, y_train, y_test = train_test_split(X, y, test_size=0.3, random_state=42)\n",
    "X_train, X_val, y_train, y_val = train_test_split(X_train, y_train, test_size=0.28, random_state=42)"
   ]
  },
  {
   "cell_type": "code",
   "execution_count": 13,
   "id": "turkish-dayton",
   "metadata": {},
   "outputs": [],
   "source": [
    "model2= keras.Sequential()"
   ]
  },
  {
   "cell_type": "code",
   "execution_count": 14,
   "id": "smooth-miami",
   "metadata": {},
   "outputs": [],
   "source": [
    "model2.add(Dense(10,activation='relu', input_shape=(30,)))\n",
    "model2.add(Dense(8,activation='relu'))\n",
    "model2.add(Dense(6,activation='relu'))\n",
    "model2.add(Dense(1,activation='sigmoid'))\n",
    "opt = keras.optimizers.Adam(learning_rate=0.01)\n",
    "model2.compile(optimizer=opt, loss='binary_crossentropy', metrics=['accuracy'])"
   ]
  },
  {
   "cell_type": "code",
   "execution_count": 15,
   "id": "broke-velvet",
   "metadata": {},
   "outputs": [
    {
     "name": "stdout",
     "output_type": "stream",
     "text": [
      "Epoch 1/100\n",
      "16/16 [==============================] - 0s 12ms/step - loss: 8.8571 - accuracy: 0.5050 - val_loss: 11.0462 - val_accuracy: 0.5436\n",
      "Epoch 2/100\n",
      "16/16 [==============================] - 0s 2ms/step - loss: 9.8109 - accuracy: 0.5451 - val_loss: 7.3100 - val_accuracy: 0.6308\n",
      "Epoch 3/100\n",
      "16/16 [==============================] - 0s 2ms/step - loss: 5.3969 - accuracy: 0.6653 - val_loss: 3.4186 - val_accuracy: 0.7179\n",
      "Epoch 4/100\n",
      "16/16 [==============================] - 0s 2ms/step - loss: 2.5775 - accuracy: 0.7295 - val_loss: 1.3676 - val_accuracy: 0.7744\n",
      "Epoch 5/100\n",
      "16/16 [==============================] - 0s 2ms/step - loss: 1.2739 - accuracy: 0.8216 - val_loss: 0.2191 - val_accuracy: 0.9179\n",
      "Epoch 6/100\n",
      "16/16 [==============================] - 0s 2ms/step - loss: 0.3332 - accuracy: 0.9499 - val_loss: 0.1450 - val_accuracy: 0.9949\n",
      "Epoch 7/100\n",
      "16/16 [==============================] - 0s 2ms/step - loss: 0.1897 - accuracy: 0.9880 - val_loss: 0.1461 - val_accuracy: 0.9897\n",
      "Epoch 8/100\n",
      "16/16 [==============================] - 0s 2ms/step - loss: 0.1811 - accuracy: 0.9880 - val_loss: 0.1384 - val_accuracy: 0.9897\n",
      "Epoch 9/100\n",
      "16/16 [==============================] - 0s 2ms/step - loss: 0.1734 - accuracy: 0.9880 - val_loss: 0.1335 - val_accuracy: 0.9897\n",
      "Epoch 10/100\n",
      "16/16 [==============================] - 0s 2ms/step - loss: 0.1640 - accuracy: 0.9900 - val_loss: 0.1234 - val_accuracy: 0.9897\n",
      "Epoch 11/100\n",
      "16/16 [==============================] - 0s 2ms/step - loss: 0.1548 - accuracy: 0.9900 - val_loss: 0.1173 - val_accuracy: 0.9897\n",
      "Epoch 12/100\n",
      "16/16 [==============================] - 0s 2ms/step - loss: 0.1458 - accuracy: 0.9900 - val_loss: 0.1090 - val_accuracy: 0.9897\n",
      "Epoch 13/100\n",
      "16/16 [==============================] - 0s 2ms/step - loss: 0.1360 - accuracy: 0.9900 - val_loss: 0.0939 - val_accuracy: 0.9897\n",
      "Epoch 14/100\n",
      "16/16 [==============================] - 0s 2ms/step - loss: 0.4152 - accuracy: 0.8116 - val_loss: 0.9003 - val_accuracy: 0.4615\n",
      "Epoch 15/100\n",
      "16/16 [==============================] - 0s 8ms/step - loss: 0.8284 - accuracy: 0.5130 - val_loss: 0.8678 - val_accuracy: 0.4615\n",
      "Epoch 16/100\n",
      "16/16 [==============================] - 0s 2ms/step - loss: 0.7971 - accuracy: 0.5130 - val_loss: 0.8281 - val_accuracy: 0.4615\n",
      "Epoch 17/100\n",
      "16/16 [==============================] - 0s 2ms/step - loss: 0.7670 - accuracy: 0.5130 - val_loss: 0.7947 - val_accuracy: 0.4615\n",
      "Epoch 18/100\n",
      "16/16 [==============================] - 0s 2ms/step - loss: 0.7440 - accuracy: 0.5130 - val_loss: 0.7679 - val_accuracy: 0.4615\n",
      "Epoch 19/100\n",
      "16/16 [==============================] - 0s 2ms/step - loss: 0.7248 - accuracy: 0.5130 - val_loss: 0.7472 - val_accuracy: 0.4615\n",
      "Epoch 20/100\n",
      "16/16 [==============================] - 0s 2ms/step - loss: 0.7034 - accuracy: 0.5130 - val_loss: 0.6974 - val_accuracy: 0.4615\n",
      "Epoch 21/100\n",
      "16/16 [==============================] - 0s 2ms/step - loss: 0.6669 - accuracy: 0.5130 - val_loss: 0.6527 - val_accuracy: 0.4615\n",
      "Epoch 22/100\n",
      "16/16 [==============================] - 0s 2ms/step - loss: 0.6422 - accuracy: 0.5130 - val_loss: 0.6360 - val_accuracy: 0.4615\n",
      "Epoch 23/100\n",
      "16/16 [==============================] - 0s 2ms/step - loss: 0.6258 - accuracy: 0.5130 - val_loss: 0.6219 - val_accuracy: 0.4615\n",
      "Epoch 24/100\n",
      "16/16 [==============================] - 0s 2ms/step - loss: 0.6137 - accuracy: 0.5130 - val_loss: 0.6109 - val_accuracy: 0.4615\n",
      "Epoch 25/100\n",
      "16/16 [==============================] - 0s 2ms/step - loss: 0.6018 - accuracy: 0.5130 - val_loss: 0.5979 - val_accuracy: 0.4615\n",
      "Epoch 26/100\n",
      "16/16 [==============================] - 0s 2ms/step - loss: 0.5932 - accuracy: 0.6653 - val_loss: 0.5813 - val_accuracy: 0.7333\n",
      "Epoch 27/100\n",
      "16/16 [==============================] - 0s 2ms/step - loss: 0.5859 - accuracy: 0.7114 - val_loss: 0.5757 - val_accuracy: 0.7282\n",
      "Epoch 28/100\n",
      "16/16 [==============================] - 0s 2ms/step - loss: 0.5766 - accuracy: 0.7295 - val_loss: 0.5536 - val_accuracy: 0.7487\n",
      "Epoch 29/100\n",
      "16/16 [==============================] - 0s 2ms/step - loss: 0.5612 - accuracy: 0.7515 - val_loss: 0.5271 - val_accuracy: 0.7897\n",
      "Epoch 30/100\n",
      "16/16 [==============================] - 0s 2ms/step - loss: 0.4537 - accuracy: 0.7876 - val_loss: 0.2686 - val_accuracy: 0.7282\n",
      "Epoch 31/100\n",
      "16/16 [==============================] - 0s 2ms/step - loss: 0.3010 - accuracy: 0.6934 - val_loss: 0.2431 - val_accuracy: 0.7282\n",
      "Epoch 32/100\n",
      "16/16 [==============================] - ETA: 0s - loss: 0.1677 - accuracy: 0.81 - 0s 2ms/step - loss: 0.2566 - accuracy: 0.7776 - val_loss: 0.2035 - val_accuracy: 0.9897\n",
      "Epoch 33/100\n",
      "16/16 [==============================] - 0s 2ms/step - loss: 0.2375 - accuracy: 0.9840 - val_loss: 0.1788 - val_accuracy: 0.9897\n",
      "Epoch 34/100\n",
      "16/16 [==============================] - 0s 2ms/step - loss: 0.2142 - accuracy: 0.9780 - val_loss: 0.1670 - val_accuracy: 0.9846\n",
      "Epoch 35/100\n",
      "16/16 [==============================] - 0s 2ms/step - loss: 0.1966 - accuracy: 0.9820 - val_loss: 0.1418 - val_accuracy: 0.9897\n",
      "Epoch 36/100\n",
      "16/16 [==============================] - 0s 2ms/step - loss: 0.2146 - accuracy: 0.9619 - val_loss: 0.5333 - val_accuracy: 0.8462\n",
      "Epoch 37/100\n",
      "16/16 [==============================] - 0s 2ms/step - loss: 0.6494 - accuracy: 0.8096 - val_loss: 0.3824 - val_accuracy: 0.8513\n",
      "Epoch 38/100\n",
      "16/16 [==============================] - 0s 2ms/step - loss: 0.3180 - accuracy: 0.8497 - val_loss: 0.1042 - val_accuracy: 0.9282\n",
      "Epoch 39/100\n",
      "16/16 [==============================] - 0s 2ms/step - loss: 0.6906 - accuracy: 0.9679 - val_loss: 0.0919 - val_accuracy: 0.9897\n",
      "Epoch 40/100\n",
      "16/16 [==============================] - 0s 2ms/step - loss: 0.1311 - accuracy: 0.9920 - val_loss: 0.0840 - val_accuracy: 0.9949\n",
      "Epoch 41/100\n",
      "16/16 [==============================] - 0s 2ms/step - loss: 0.0866 - accuracy: 0.9980 - val_loss: 0.0596 - val_accuracy: 0.9949\n",
      "Epoch 42/100\n",
      "16/16 [==============================] - 0s 2ms/step - loss: 0.1300 - accuracy: 0.9960 - val_loss: 0.0616 - val_accuracy: 0.9949\n",
      "Epoch 43/100\n",
      "16/16 [==============================] - 0s 2ms/step - loss: 0.0773 - accuracy: 0.9980 - val_loss: 0.0583 - val_accuracy: 0.9949\n",
      "Epoch 44/100\n",
      "16/16 [==============================] - 0s 2ms/step - loss: 0.0631 - accuracy: 0.9980 - val_loss: 0.0403 - val_accuracy: 0.9949\n",
      "Epoch 45/100\n",
      "16/16 [==============================] - 0s 2ms/step - loss: 0.0536 - accuracy: 0.9980 - val_loss: 0.0283 - val_accuracy: 0.9949\n",
      "Epoch 46/100\n",
      "16/16 [==============================] - 0s 2ms/step - loss: 0.3188 - accuracy: 0.9960 - val_loss: 0.0482 - val_accuracy: 0.9949\n",
      "Epoch 47/100\n",
      "16/16 [==============================] - 0s 2ms/step - loss: 0.0696 - accuracy: 0.9960 - val_loss: 0.0712 - val_accuracy: 0.9897\n",
      "Epoch 48/100\n",
      "16/16 [==============================] - 0s 2ms/step - loss: 0.0625 - accuracy: 0.9980 - val_loss: 0.0509 - val_accuracy: 0.9949\n",
      "Epoch 49/100\n",
      "16/16 [==============================] - 0s 2ms/step - loss: 0.0522 - accuracy: 0.9960 - val_loss: 0.0496 - val_accuracy: 0.9949\n",
      "Epoch 50/100\n",
      "16/16 [==============================] - 0s 2ms/step - loss: 0.0950 - accuracy: 0.9860 - val_loss: 0.0758 - val_accuracy: 0.9949\n",
      "Epoch 51/100\n",
      "16/16 [==============================] - 0s 2ms/step - loss: 0.0522 - accuracy: 0.9980 - val_loss: 0.0340 - val_accuracy: 0.9949\n",
      "Epoch 52/100\n",
      "16/16 [==============================] - 0s 2ms/step - loss: 0.1265 - accuracy: 0.9940 - val_loss: 0.0871 - val_accuracy: 0.9846\n",
      "Epoch 53/100\n",
      "16/16 [==============================] - 0s 2ms/step - loss: 0.0500 - accuracy: 0.9940 - val_loss: 0.0337 - val_accuracy: 0.9949\n",
      "Epoch 54/100\n",
      "16/16 [==============================] - 0s 2ms/step - loss: 0.0415 - accuracy: 0.9980 - val_loss: 0.0279 - val_accuracy: 0.9949\n",
      "Epoch 55/100\n",
      "16/16 [==============================] - 0s 2ms/step - loss: 0.0289 - accuracy: 0.9980 - val_loss: 0.0274 - val_accuracy: 0.9949\n",
      "Epoch 56/100\n",
      "16/16 [==============================] - 0s 2ms/step - loss: 0.0509 - accuracy: 0.9960 - val_loss: 0.0378 - val_accuracy: 0.9949\n",
      "Epoch 57/100\n",
      "16/16 [==============================] - 0s 2ms/step - loss: 0.0486 - accuracy: 0.9960 - val_loss: 0.0241 - val_accuracy: 0.9949\n",
      "Epoch 58/100\n"
     ]
    },
    {
     "name": "stdout",
     "output_type": "stream",
     "text": [
      "16/16 [==============================] - 0s 2ms/step - loss: 0.0228 - accuracy: 0.9980 - val_loss: 0.0196 - val_accuracy: 0.9949\n",
      "Epoch 59/100\n",
      "16/16 [==============================] - 0s 2ms/step - loss: 0.0255 - accuracy: 0.9960 - val_loss: 0.0213 - val_accuracy: 0.9949\n",
      "Epoch 60/100\n",
      "16/16 [==============================] - 0s 2ms/step - loss: 0.0290 - accuracy: 0.9960 - val_loss: 0.0305 - val_accuracy: 0.9949\n",
      "Epoch 61/100\n",
      "16/16 [==============================] - 0s 2ms/step - loss: 0.0213 - accuracy: 0.9980 - val_loss: 0.0220 - val_accuracy: 0.9949\n",
      "Epoch 62/100\n",
      "16/16 [==============================] - 0s 2ms/step - loss: 0.0199 - accuracy: 0.9980 - val_loss: 0.0194 - val_accuracy: 0.9949\n",
      "Epoch 63/100\n",
      "16/16 [==============================] - 0s 2ms/step - loss: 0.0175 - accuracy: 0.9980 - val_loss: 0.0181 - val_accuracy: 0.9949\n",
      "Epoch 64/100\n",
      "16/16 [==============================] - 0s 2ms/step - loss: 0.0154 - accuracy: 0.9980 - val_loss: 0.0175 - val_accuracy: 0.9949\n",
      "Epoch 65/100\n",
      "16/16 [==============================] - 0s 2ms/step - loss: 0.0132 - accuracy: 0.9980 - val_loss: 0.0176 - val_accuracy: 0.9949\n",
      "Epoch 66/100\n",
      "16/16 [==============================] - 0s 2ms/step - loss: 0.0124 - accuracy: 0.9980 - val_loss: 0.0194 - val_accuracy: 0.9949\n",
      "Epoch 67/100\n",
      "16/16 [==============================] - 0s 2ms/step - loss: 0.0135 - accuracy: 0.9980 - val_loss: 0.0196 - val_accuracy: 0.9949\n",
      "Epoch 68/100\n",
      "16/16 [==============================] - 0s 2ms/step - loss: 0.0131 - accuracy: 0.9980 - val_loss: 0.0178 - val_accuracy: 0.9949\n",
      "Epoch 69/100\n",
      "16/16 [==============================] - ETA: 0s - loss: 0.0064 - accuracy: 1.00 - 0s 2ms/step - loss: 0.0119 - accuracy: 0.9980 - val_loss: 0.0183 - val_accuracy: 0.9949\n",
      "Epoch 70/100\n",
      "16/16 [==============================] - 0s 2ms/step - loss: 0.0112 - accuracy: 0.9980 - val_loss: 0.0191 - val_accuracy: 0.9949\n",
      "Epoch 71/100\n",
      "16/16 [==============================] - 0s 2ms/step - loss: 0.0109 - accuracy: 0.9980 - val_loss: 0.0188 - val_accuracy: 0.9949\n",
      "Epoch 72/100\n",
      "16/16 [==============================] - 0s 2ms/step - loss: 0.0102 - accuracy: 0.9980 - val_loss: 0.0201 - val_accuracy: 0.9949\n",
      "Epoch 73/100\n",
      "16/16 [==============================] - 0s 2ms/step - loss: 0.0104 - accuracy: 0.9980 - val_loss: 0.0201 - val_accuracy: 0.9949\n",
      "Epoch 74/100\n",
      "16/16 [==============================] - 0s 2ms/step - loss: 0.0099 - accuracy: 0.9980 - val_loss: 0.0203 - val_accuracy: 0.9949\n",
      "Epoch 75/100\n",
      "16/16 [==============================] - 0s 2ms/step - loss: 0.0096 - accuracy: 0.9980 - val_loss: 0.0200 - val_accuracy: 0.9949\n",
      "Epoch 76/100\n",
      "16/16 [==============================] - 0s 2ms/step - loss: 0.0093 - accuracy: 0.9980 - val_loss: 0.0209 - val_accuracy: 0.9949\n",
      "Epoch 77/100\n",
      "16/16 [==============================] - 0s 2ms/step - loss: 0.0109 - accuracy: 0.9980 - val_loss: 0.0209 - val_accuracy: 0.9949\n",
      "Epoch 78/100\n",
      "16/16 [==============================] - 0s 2ms/step - loss: 0.0112 - accuracy: 0.9980 - val_loss: 0.0184 - val_accuracy: 0.9949\n",
      "Epoch 79/100\n",
      "16/16 [==============================] - 0s 2ms/step - loss: 0.0159 - accuracy: 0.9980 - val_loss: 0.0416 - val_accuracy: 0.9846\n",
      "Epoch 80/100\n",
      "16/16 [==============================] - 0s 2ms/step - loss: 0.0487 - accuracy: 0.9920 - val_loss: 0.0179 - val_accuracy: 0.9949\n",
      "Epoch 81/100\n",
      "16/16 [==============================] - 0s 2ms/step - loss: 0.0137 - accuracy: 0.9980 - val_loss: 0.0160 - val_accuracy: 0.9949\n",
      "Epoch 82/100\n",
      "16/16 [==============================] - 0s 2ms/step - loss: 0.0125 - accuracy: 0.9980 - val_loss: 0.0168 - val_accuracy: 0.9949\n",
      "Epoch 83/100\n",
      "16/16 [==============================] - 0s 2ms/step - loss: 0.0101 - accuracy: 0.9980 - val_loss: 0.0175 - val_accuracy: 0.9949\n",
      "Epoch 84/100\n",
      "16/16 [==============================] - 0s 2ms/step - loss: 0.0096 - accuracy: 0.9980 - val_loss: 0.0197 - val_accuracy: 0.9949\n",
      "Epoch 85/100\n",
      "16/16 [==============================] - 0s 2ms/step - loss: 0.0074 - accuracy: 0.9980 - val_loss: 0.0194 - val_accuracy: 0.9949\n",
      "Epoch 86/100\n",
      "16/16 [==============================] - 0s 2ms/step - loss: 0.0071 - accuracy: 0.9980 - val_loss: 0.0197 - val_accuracy: 0.9949\n",
      "Epoch 87/100\n",
      "16/16 [==============================] - 0s 2ms/step - loss: 0.0066 - accuracy: 0.9980 - val_loss: 0.0207 - val_accuracy: 0.9949\n",
      "Epoch 88/100\n",
      "16/16 [==============================] - 0s 2ms/step - loss: 0.0059 - accuracy: 1.0000 - val_loss: 0.0205 - val_accuracy: 0.9949\n",
      "Epoch 89/100\n",
      "16/16 [==============================] - 0s 2ms/step - loss: 0.0058 - accuracy: 0.9980 - val_loss: 0.0208 - val_accuracy: 0.9949\n",
      "Epoch 90/100\n",
      "16/16 [==============================] - 0s 2ms/step - loss: 0.0059 - accuracy: 0.9980 - val_loss: 0.0205 - val_accuracy: 0.9949\n",
      "Epoch 91/100\n",
      "16/16 [==============================] - 0s 2ms/step - loss: 0.0053 - accuracy: 1.0000 - val_loss: 0.0236 - val_accuracy: 0.9949\n",
      "Epoch 92/100\n",
      "16/16 [==============================] - 0s 2ms/step - loss: 0.0056 - accuracy: 1.0000 - val_loss: 0.0214 - val_accuracy: 0.9949\n",
      "Epoch 93/100\n",
      "16/16 [==============================] - 0s 2ms/step - loss: 0.0049 - accuracy: 1.0000 - val_loss: 0.0217 - val_accuracy: 0.9949\n",
      "Epoch 94/100\n",
      "16/16 [==============================] - 0s 2ms/step - loss: 0.0047 - accuracy: 1.0000 - val_loss: 0.0218 - val_accuracy: 0.9949\n",
      "Epoch 95/100\n",
      "16/16 [==============================] - 0s 2ms/step - loss: 0.0051 - accuracy: 0.9980 - val_loss: 0.0216 - val_accuracy: 0.9949\n",
      "Epoch 96/100\n",
      "16/16 [==============================] - 0s 2ms/step - loss: 0.0048 - accuracy: 1.0000 - val_loss: 0.0236 - val_accuracy: 0.9949\n",
      "Epoch 97/100\n",
      "16/16 [==============================] - 0s 2ms/step - loss: 0.0053 - accuracy: 0.9980 - val_loss: 0.0221 - val_accuracy: 0.9949\n",
      "Epoch 98/100\n",
      "16/16 [==============================] - 0s 2ms/step - loss: 0.0046 - accuracy: 1.0000 - val_loss: 0.0235 - val_accuracy: 0.9949\n",
      "Epoch 99/100\n",
      "16/16 [==============================] - 0s 2ms/step - loss: 0.0043 - accuracy: 0.9980 - val_loss: 0.0220 - val_accuracy: 0.9949\n",
      "Epoch 100/100\n",
      "16/16 [==============================] - 0s 2ms/step - loss: 0.0036 - accuracy: 1.0000 - val_loss: 0.0214 - val_accuracy: 0.9949\n"
     ]
    }
   ],
   "source": [
    "XX_cc=model2.fit(X_train,y_train, validation_data=(X_val, y_val), epochs=100)"
   ]
  },
  {
   "cell_type": "code",
   "execution_count": 16,
   "id": "continued-python",
   "metadata": {},
   "outputs": [
    {
     "name": "stdout",
     "output_type": "stream",
     "text": [
      "WARNING:tensorflow:From <ipython-input-16-9e49e0650570>:1: Sequential.predict_classes (from tensorflow.python.keras.engine.sequential) is deprecated and will be removed after 2021-01-01.\n",
      "Instructions for updating:\n",
      "Please use instead:* `np.argmax(model.predict(x), axis=-1)`,   if your model does multi-class classification   (e.g. if it uses a `softmax` last-layer activation).* `(model.predict(x) > 0.5).astype(\"int32\")`,   if your model does binary classification   (e.g. if it uses a `sigmoid` last-layer activation).\n"
     ]
    }
   ],
   "source": [
    "y_hat_test = model2.predict_classes(X_test)"
   ]
  },
  {
   "cell_type": "code",
   "execution_count": 17,
   "id": "consistent-olive",
   "metadata": {},
   "outputs": [],
   "source": [
    "df_pf = pd.DataFrame(y_hat_test, columns=['Prediction'])"
   ]
  },
  {
   "cell_type": "code",
   "execution_count": 18,
   "id": "international-spice",
   "metadata": {},
   "outputs": [],
   "source": [
    "y_test = y_test.reset_index(drop=True)"
   ]
  },
  {
   "cell_type": "code",
   "execution_count": 19,
   "id": "thousand-mailman",
   "metadata": {},
   "outputs": [],
   "source": [
    "df_pf['Target'] = y_test"
   ]
  },
  {
   "cell_type": "code",
   "execution_count": 20,
   "id": "spoken-comfort",
   "metadata": {},
   "outputs": [
    {
     "data": {
      "text/plain": [
       "1.0"
      ]
     },
     "execution_count": 20,
     "metadata": {},
     "output_type": "execute_result"
    }
   ],
   "source": [
    "from sklearn.metrics import accuracy_score\n",
    "accuracy_score(df_pf['Prediction'],df_pf['Target'])"
   ]
  },
  {
   "cell_type": "code",
   "execution_count": null,
   "id": "expected-harris",
   "metadata": {},
   "outputs": [],
   "source": []
  }
 ],
 "metadata": {
  "kernelspec": {
   "display_name": "Python 3",
   "language": "python",
   "name": "python3"
  },
  "language_info": {
   "codemirror_mode": {
    "name": "ipython",
    "version": 3
   },
   "file_extension": ".py",
   "mimetype": "text/x-python",
   "name": "python",
   "nbconvert_exporter": "python",
   "pygments_lexer": "ipython3",
   "version": "3.8.8"
  }
 },
 "nbformat": 4,
 "nbformat_minor": 5
}
